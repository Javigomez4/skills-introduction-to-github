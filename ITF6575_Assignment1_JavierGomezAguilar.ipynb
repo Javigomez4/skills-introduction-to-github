{
  "cells": [
    {
      "cell_type": "markdown",
      "metadata": {
        "id": "view-in-github",
        "colab_type": "text"
      },
      "source": [
        "<a href=\"https://colab.research.google.com/github/Javigomez4/skills-introduction-to-github/blob/main/ITF6575_Assignment1_JavierGomezAguilar.ipynb\" target=\"_parent\"><img src=\"https://colab.research.google.com/assets/colab-badge.svg\" alt=\"Open In Colab\"/></a>"
      ]
    },
    {
      "cell_type": "markdown",
      "id": "0288fd42",
      "metadata": {
        "id": "0288fd42"
      },
      "source": [
        "\n",
        "# ITF6575: Methods of Operations Research  \n",
        "Assignment 1\n",
        "Instructor: Utsav Sadana   \n",
        "Student: Javier Gomez Aguilar  \n",
        "Date: 16 October 2025  \n",
        "  \n",
        "\n"
      ]
    },
    {
      "cell_type": "markdown",
      "id": "30e56b57",
      "metadata": {
        "id": "30e56b57"
      },
      "source": [
        "## Problem 3 – Simplex Tableau Sensitivity Analysis"
      ]
    },
    {
      "cell_type": "code",
      "execution_count": 1,
      "id": "2da371cf",
      "metadata": {
        "colab": {
          "base_uri": "https://localhost:8080/"
        },
        "id": "2da371cf",
        "outputId": "d113cd36-8210-4a3d-8372-88069e372dba"
      },
      "outputs": [
        {
          "output_type": "stream",
          "name": "stdout",
          "text": [
            "Dual is infeasible (primal unbounded).\n",
            "\n",
            "Sensitivity Analysis:\n",
            "ε = -5.00: Basis remains optimal (r1=-5.0)\n",
            "ε = -4.00: Basis remains optimal (r1=-4.0)\n",
            "ε = -3.00: Basis remains optimal (r1=-3.0)\n",
            "ε = -2.00: Basis remains optimal (r1=-2.0)\n",
            "ε = -1.00: Basis remains optimal (r1=-1.0)\n",
            "ε =  0.00: Basis remains optimal (r1=0.0)\n",
            "ε =  1.00: Basis no longer optimal (r1=1.0)\n",
            "ε =  2.00: Basis no longer optimal (r1=2.0)\n",
            "ε =  3.00: Basis no longer optimal (r1=3.0)\n",
            "ε =  4.00: Basis no longer optimal (r1=4.0)\n",
            "ε =  5.00: Basis no longer optimal (r1=5.0)\n"
          ]
        }
      ],
      "source": [
        "\n",
        "import numpy as np\n",
        "\n",
        "alpha = 0\n",
        "beta = 1\n",
        "gamma = 0\n",
        "\n",
        "rhs = np.array([0.5, 1])\n",
        "\n",
        "if beta > 0 and gamma <= 0:\n",
        "    print(\"Dual is infeasible (primal unbounded).\")\n",
        "else:\n",
        "    print(\"Dual may be feasible.\")\n",
        "\n",
        "alpha_values = np.linspace(-5, 5, 11)\n",
        "print(\"\\nSensitivity Analysis:\")\n",
        "for eps in alpha_values:\n",
        "    r1 = alpha + eps\n",
        "    if r1 <= 0:\n",
        "        print(f\"ε = {eps:>5.2f}: Basis remains optimal (r1={r1})\")\n",
        "    else:\n",
        "        print(f\"ε = {eps:>5.2f}: Basis no longer optimal (r1={r1})\")\n"
      ]
    },
    {
      "cell_type": "markdown",
      "id": "b8b75b1e",
      "metadata": {
        "id": "b8b75b1e"
      },
      "source": [
        "## Problem 4 – Cutting Stock Problem"
      ]
    },
    {
      "cell_type": "markdown",
      "id": "746424ef",
      "metadata": {
        "id": "746424ef"
      },
      "source": [
        "\n",
        "We are given **K = 20 rolls** of width **W = 100 inches**.  \n",
        "The goal is to minimize the number of rolls needed to satisfy demand, allowing trim loss.\n",
        "\n",
        "| Width (in) | 40 | 20 | 10 |\n",
        "|-------------|----|----|----|\n",
        "| Demand      | 8  | 7  | 10 |\n",
        "\n",
        "We solve this in four parts:\n",
        "1. Enumerate all feasible patterns  \n",
        "2. Solve the LP relaxation  \n",
        "3. Solve the integer version  \n",
        "4. Run column generation to verify the LP result\n"
      ]
    },
    {
      "cell_type": "markdown",
      "id": "b5e0589a",
      "metadata": {
        "id": "b5e0589a"
      },
      "source": [
        "### Step 1 – Enumerate Feasible Patterns"
      ]
    },
    {
      "cell_type": "code",
      "execution_count": 2,
      "id": "b8ce55e4",
      "metadata": {
        "colab": {
          "base_uri": "https://localhost:8080/"
        },
        "id": "b8ce55e4",
        "outputId": "9b83d317-0d73-4974-aa1a-12216ebefd1c"
      },
      "outputs": [
        {
          "output_type": "stream",
          "name": "stdout",
          "text": [
            "Total feasible patterns: 56\n",
            "Example patterns (first 10):\n",
            "[[  0   0   0 100]\n",
            " [  0   0   1  90]\n",
            " [  0   0   2  80]\n",
            " [  0   0   3  70]\n",
            " [  0   0   4  60]\n",
            " [  0   0   5  50]\n",
            " [  0   0   6  40]\n",
            " [  0   0   7  30]\n",
            " [  0   0   8  20]\n",
            " [  0   0   9  10]]\n"
          ]
        }
      ],
      "source": [
        "\n",
        "import numpy as np\n",
        "\n",
        "W = 100\n",
        "Wa, Wb, Wc = 40, 20, 10\n",
        "\n",
        "patterns = []\n",
        "for a in range(W // Wa + 1):\n",
        "    for b in range(W // Wb + 1):\n",
        "        for c in range(W // Wc + 1):\n",
        "            used = a*Wa + b*Wb + c*Wc\n",
        "            if used <= W:\n",
        "                waste = W - used\n",
        "                patterns.append((a, b, c, waste))\n",
        "\n",
        "patterns = np.array(patterns)\n",
        "print(f\"Total feasible patterns: {len(patterns)}\")\n",
        "print(\"Example patterns (first 10):\")\n",
        "print(patterns[:10])\n"
      ]
    },
    {
      "cell_type": "markdown",
      "id": "6270d729",
      "metadata": {
        "id": "6270d729"
      },
      "source": [
        "### Step 2 – LP Relaxation (Fractional Solution)"
      ]
    },
    {
      "cell_type": "code",
      "execution_count": 3,
      "id": "5b2b4fe6",
      "metadata": {
        "colab": {
          "base_uri": "https://localhost:8080/"
        },
        "id": "5b2b4fe6",
        "outputId": "b2c08fe9-938a-4318-e1ef-e0095a411383"
      },
      "outputs": [
        {
          "output_type": "stream",
          "name": "stdout",
          "text": [
            "Collecting pulp\n",
            "  Downloading pulp-3.3.0-py3-none-any.whl.metadata (8.4 kB)\n",
            "Downloading pulp-3.3.0-py3-none-any.whl (16.4 MB)\n",
            "\u001b[2K   \u001b[90m━━━━━━━━━━━━━━━━━━━━━━━━━━━━━━━━━━━━━━━━\u001b[0m \u001b[32m16.4/16.4 MB\u001b[0m \u001b[31m69.5 MB/s\u001b[0m eta \u001b[36m0:00:00\u001b[0m\n",
            "\u001b[?25hInstalling collected packages: pulp\n",
            "Successfully installed pulp-3.3.0\n",
            "\n",
            "LP Relaxation Solution:\n",
            "Pattern [ 0  0 10] -> 1.00 rolls\n",
            "Pattern [0 5 0] -> 0.60 rolls\n",
            "Pattern [2 1 0] -> 4.00 rolls\n",
            "\n",
            "LP optimal number of rolls: 5.60\n"
          ]
        }
      ],
      "source": [
        "\n",
        "!pip install pulp\n",
        "\n",
        "import pulp\n",
        "\n",
        "widths = [40, 20, 10]\n",
        "demand = [8, 7, 10]\n",
        "\n",
        "model = pulp.LpProblem(\"CuttingStock_LP\", pulp.LpMinimize)\n",
        "z = [pulp.LpVariable(f\"z_{i}\", lowBound=0) for i in range(len(patterns))]\n",
        "\n",
        "model += pulp.lpSum(z)\n",
        "for i in range(3):\n",
        "    model += pulp.lpSum(patterns[p][i] * z[p] for p in range(len(patterns))) >= demand[i]\n",
        "\n",
        "model.solve(pulp.PULP_CBC_CMD(msg=0))\n",
        "\n",
        "print(\"\\nLP Relaxation Solution:\")\n",
        "for p in range(len(patterns)):\n",
        "    if z[p].value() and z[p].value() > 0:\n",
        "        print(f\"Pattern {patterns[p][:3]} -> {z[p].value():.2f} rolls\")\n",
        "\n",
        "print(f\"\\nLP optimal number of rolls: {pulp.value(model.objective):.2f}\")\n"
      ]
    },
    {
      "cell_type": "markdown",
      "id": "d2300a9f",
      "metadata": {
        "id": "d2300a9f"
      },
      "source": [
        "### Step 3 – Integer Solution (Exact Minimum Rolls)"
      ]
    },
    {
      "cell_type": "code",
      "execution_count": 4,
      "id": "d8e15fe7",
      "metadata": {
        "colab": {
          "base_uri": "https://localhost:8080/"
        },
        "id": "d8e15fe7",
        "outputId": "f16bf2c5-e7df-4e54-ef6d-3081f6f4c4d7"
      },
      "outputs": [
        {
          "output_type": "stream",
          "name": "stdout",
          "text": [
            "\n",
            "Integer Optimal Solution:\n",
            "Pattern [ 0  0 10] -> 1 rolls\n",
            "Pattern [0 5 0] -> 1 rolls\n",
            "Pattern [2 1 0] -> 4 rolls\n",
            "\n",
            "Integer optimal number of rolls: 6\n"
          ]
        }
      ],
      "source": [
        "\n",
        "# Integer version using PuLP\n",
        "int_model = pulp.LpProblem(\"CuttingStock_Integer\", pulp.LpMinimize)\n",
        "x = [pulp.LpVariable(f\"x_{i}\", lowBound=0, cat=\"Integer\") for i in range(len(patterns))]\n",
        "\n",
        "int_model += pulp.lpSum(x)\n",
        "for i in range(3):\n",
        "    int_model += pulp.lpSum(patterns[p][i] * x[p] for p in range(len(patterns))) >= demand[i]\n",
        "\n",
        "int_model.solve(pulp.PULP_CBC_CMD(msg=0))\n",
        "\n",
        "print(\"\\nInteger Optimal Solution:\")\n",
        "for p in range(len(patterns)):\n",
        "    if x[p].value() and x[p].value() > 0:\n",
        "        print(f\"Pattern {patterns[p][:3]} -> {int(x[p].value())} rolls\")\n",
        "\n",
        "print(f\"\\nInteger optimal number of rolls: {int(pulp.value(int_model.objective))}\")\n"
      ]
    },
    {
      "cell_type": "markdown",
      "id": "027acc56",
      "metadata": {
        "id": "027acc56"
      },
      "source": [
        "### Step 4 – Column Generation (LP Verification)"
      ]
    },
    {
      "cell_type": "code",
      "execution_count": 5,
      "id": "92a062be",
      "metadata": {
        "colab": {
          "base_uri": "https://localhost:8080/"
        },
        "id": "92a062be",
        "outputId": "197ac4e0-6f8a-44b4-eb15-73cc8f8541c1"
      },
      "outputs": [
        {
          "output_type": "stream",
          "name": "stdout",
          "text": [
            "Iter 1: Obj = 6.4000, Duals = [0.5, 0.2, 0.1], Reduced cost = -0.2000\n",
            "  Added new pattern: [2, 1, 0]\n",
            "Iter 2: Obj = 5.6000, Duals = [0.4, 0.2, 0.1], Reduced cost = 0.0000\n",
            "  No improving pattern found. Converged.\n",
            "\n",
            "Final LP Objective (approx.): 5.6\n",
            "Final patterns used:\n",
            "  [2, 0, 0]\n",
            "  [0, 5, 0]\n",
            "  [0, 0, 10]\n",
            "  [2, 1, 0]\n"
          ]
        }
      ],
      "source": [
        "\n",
        "# Column generation implementation\n",
        "TOL = 1e-6\n",
        "MAX_ITERS = 20\n",
        "\n",
        "def initial_patterns(W, widths):\n",
        "    pats = []\n",
        "    for i, wi in enumerate(widths):\n",
        "        patt = [0]*len(widths)\n",
        "        patt[i] = W // wi\n",
        "        pats.append(patt)\n",
        "    return pats\n",
        "\n",
        "def solve_master(patterns, widths, demand):\n",
        "    m = pulp.LpProblem(\"MasterLP\", pulp.LpMinimize)\n",
        "    x = [pulp.LpVariable(f\"x_{j}\", lowBound=0) for j in range(len(patterns))]\n",
        "    m += pulp.lpSum(x)\n",
        "    constraints = []\n",
        "    for i in range(len(widths)):\n",
        "        cons = pulp.lpSum(patterns[j][i]*x[j] for j in range(len(patterns))) >= demand[i]\n",
        "        cname = f\"cover_{i}\"\n",
        "        m += cons, cname\n",
        "        constraints.append(m.constraints[cname])\n",
        "    m.solve(pulp.PULP_CBC_CMD(msg=0))\n",
        "    obj = pulp.value(m.objective)\n",
        "    duals = [c.pi for c in constraints]\n",
        "    return obj, duals\n",
        "\n",
        "def pricing_knapsack(W, widths, duals):\n",
        "    dp = [0]*(W+1)\n",
        "    choice = [-1]*(W+1)\n",
        "    for c in range(1, W+1):\n",
        "        for i, wi in enumerate(widths):\n",
        "            if wi <= c and dp[c-wi] + duals[i] > dp[c] + TOL:\n",
        "                dp[c] = dp[c-wi] + duals[i]\n",
        "                choice[c] = i\n",
        "    best_cap = np.argmax(dp)\n",
        "    counts = [0]*len(widths)\n",
        "    c = best_cap\n",
        "    while c > 0 and choice[c] != -1:\n",
        "        i = choice[c]\n",
        "        counts[i] += 1\n",
        "        c -= widths[i]\n",
        "    return dp[best_cap], counts\n",
        "\n",
        "patterns = initial_patterns(W, widths)\n",
        "for it in range(1, MAX_ITERS+1):\n",
        "    obj, duals = solve_master(patterns, widths, demand)\n",
        "    best_val, new_pattern = pricing_knapsack(W, widths, duals)\n",
        "    reduced_cost = 1 - best_val\n",
        "    print(f\"Iter {it}: Obj = {obj:.4f}, Duals = {[round(d,3) for d in duals]}, Reduced cost = {reduced_cost:.4f}\")\n",
        "    if reduced_cost < -TOL:\n",
        "        patterns.append(new_pattern)\n",
        "        print(f\"  Added new pattern: {new_pattern}\")\n",
        "    else:\n",
        "        print(\"  No improving pattern found. Converged.\")\n",
        "        break\n",
        "\n",
        "print(\"\\nFinal LP Objective (approx.):\", round(obj,4))\n",
        "print(\"Final patterns used:\")\n",
        "for p in patterns:\n",
        "    print(\" \", p)\n"
      ]
    },
    {
      "cell_type": "markdown",
      "id": "d0c453b3",
      "metadata": {
        "id": "d0c453b3"
      },
      "source": [
        "\n",
        "Column Generation Summary\n",
        "Column generation starts with simple patterns (each cutting only one type of width).  \n",
        "It solves the LP (master problem) and then generates new patterns using the dual prices  \n",
        "until no improving pattern can be found (reduced cost ≥ 0).\n",
        "\n",
        "This process gives the same fractional optimum as the LP relaxation, **zLP = 5.6**,  \n",
        "which is smaller than the integer optimum **zINT = 6**, showing that the LP relaxation is not integral.\n",
        "Final Results\n",
        "| Method | Description | Optimum (rolls) |\n",
        "|---------|--------------|-----------------|\n",
        "| Enumeration | Full pattern list | 56 patterns found |\n",
        "| LP Relaxation | Fractional rolls allowed | **5.6** |\n",
        "| Integer Solution | Whole rolls only | **6** |\n",
        "| Column Generation | LP verification | **5.6** |\n"
      ]
    }
  ],
  "metadata": {
    "colab": {
      "provenance": [],
      "include_colab_link": true
    },
    "language_info": {
      "name": "python"
    },
    "kernelspec": {
      "name": "python3",
      "display_name": "Python 3"
    }
  },
  "nbformat": 4,
  "nbformat_minor": 5
}